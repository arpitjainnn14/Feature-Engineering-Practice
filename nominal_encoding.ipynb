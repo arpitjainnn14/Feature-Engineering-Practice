{
 "cells": [
  {
   "cell_type": "code",
   "execution_count": 134,
   "id": "ddde13b9",
   "metadata": {},
   "outputs": [],
   "source": [
    "import pandas as pd\n",
    "import numpy as np"
   ]
  },
  {
   "cell_type": "code",
   "execution_count": null,
   "id": "293c601e",
   "metadata": {},
   "outputs": [],
   "source": [
    "df=pd.read_csv('datasets\\cars.csv')"
   ]
  },
  {
   "cell_type": "code",
   "execution_count": 136,
   "id": "cdce15ec",
   "metadata": {},
   "outputs": [
    {
     "data": {
      "application/vnd.microsoft.datawrangler.viewer.v0+json": {
       "columns": [
        {
         "name": "index",
         "rawType": "int64",
         "type": "integer"
        },
        {
         "name": "brand",
         "rawType": "object",
         "type": "string"
        },
        {
         "name": "km_driven",
         "rawType": "int64",
         "type": "integer"
        },
        {
         "name": "fuel",
         "rawType": "object",
         "type": "string"
        },
        {
         "name": "owner",
         "rawType": "object",
         "type": "string"
        },
        {
         "name": "selling_price",
         "rawType": "int64",
         "type": "integer"
        }
       ],
       "ref": "adf23005-bd82-4f02-9112-120fa91c1720",
       "rows": [
        [
         "0",
         "Maruti",
         "145500",
         "Diesel",
         "First Owner",
         "450000"
        ],
        [
         "1",
         "Skoda",
         "120000",
         "Diesel",
         "Second Owner",
         "370000"
        ],
        [
         "2",
         "Honda",
         "140000",
         "Petrol",
         "Third Owner",
         "158000"
        ],
        [
         "3",
         "Hyundai",
         "127000",
         "Diesel",
         "First Owner",
         "225000"
        ],
        [
         "4",
         "Maruti",
         "120000",
         "Petrol",
         "First Owner",
         "130000"
        ],
        [
         "5",
         "Hyundai",
         "45000",
         "Petrol",
         "First Owner",
         "440000"
        ],
        [
         "6",
         "Maruti",
         "175000",
         "LPG",
         "First Owner",
         "96000"
        ],
        [
         "7",
         "Maruti",
         "5000",
         "Petrol",
         "Second Owner",
         "45000"
        ],
        [
         "8",
         "Toyota",
         "90000",
         "Diesel",
         "First Owner",
         "350000"
        ],
        [
         "9",
         "Ford",
         "169000",
         "Diesel",
         "First Owner",
         "200000"
        ],
        [
         "10",
         "Renault",
         "68000",
         "Diesel",
         "Second Owner",
         "500000"
        ],
        [
         "11",
         "Maruti",
         "100000",
         "Petrol",
         "Second Owner",
         "92000"
        ],
        [
         "12",
         "Maruti",
         "140000",
         "Diesel",
         "Second Owner",
         "280000"
        ],
        [
         "13",
         "Maruti",
         "80000",
         "Petrol",
         "Second Owner",
         "200000"
        ],
        [
         "14",
         "Maruti",
         "90000",
         "Petrol",
         "Second Owner",
         "180000"
        ],
        [
         "15",
         "Mahindra",
         "40000",
         "Petrol",
         "First Owner",
         "400000"
        ],
        [
         "16",
         "Maruti",
         "70000",
         "Diesel",
         "Second Owner",
         "778000"
        ],
        [
         "17",
         "Hyundai",
         "53000",
         "Diesel",
         "Second Owner",
         "500000"
        ],
        [
         "18",
         "Maruti",
         "80000",
         "Petrol",
         "Second Owner",
         "150000"
        ],
        [
         "19",
         "Hyundai",
         "100000",
         "Diesel",
         "First Owner",
         "680000"
        ],
        [
         "20",
         "Mahindra",
         "100000",
         "Diesel",
         "Second Owner",
         "174000"
        ],
        [
         "21",
         "Honda",
         "50000",
         "Diesel",
         "First Owner",
         "950000"
        ],
        [
         "22",
         "Maruti",
         "40000",
         "Diesel",
         "First Owner",
         "525000"
        ],
        [
         "23",
         "Maruti",
         "72000",
         "Diesel",
         "First Owner",
         "600000"
        ],
        [
         "24",
         "Tata",
         "35000",
         "Petrol",
         "First Owner",
         "500000"
        ],
        [
         "25",
         "Maruti",
         "45000",
         "Petrol",
         "First Owner",
         "575000"
        ],
        [
         "26",
         "Maruti",
         "28000",
         "Petrol",
         "First Owner",
         "275000"
        ],
        [
         "27",
         "Chevrolet",
         "70000",
         "Diesel",
         "First Owner",
         "300000"
        ],
        [
         "28",
         "Maruti",
         "120000",
         "Petrol",
         "First Owner",
         "220000"
        ],
        [
         "29",
         "Maruti",
         "25000",
         "Petrol",
         "First Owner",
         "254999"
        ],
        [
         "30",
         "Maruti",
         "70000",
         "Diesel",
         "First Owner",
         "670000"
        ],
        [
         "31",
         "Fiat",
         "50000",
         "Petrol",
         "Second Owner",
         "70000"
        ],
        [
         "32",
         "Maruti",
         "35000",
         "Petrol",
         "Second Owner",
         "150000"
        ],
        [
         "33",
         "Hyundai",
         "2388",
         "Petrol",
         "First Owner",
         "730000"
        ],
        [
         "34",
         "Maruti",
         "16200",
         "Diesel",
         "First Owner",
         "650000"
        ],
        [
         "35",
         "Maruti",
         "10000",
         "CNG",
         "Second Owner",
         "330000"
        ],
        [
         "36",
         "Maruti",
         "15000",
         "Petrol",
         "First Owner",
         "366000"
        ],
        [
         "37",
         "Hyundai",
         "5000",
         "Petrol",
         "First Owner",
         "1149000"
        ],
        [
         "38",
         "Datsun",
         "42000",
         "Petrol",
         "First Owner",
         "150000"
        ],
        [
         "39",
         "Tata",
         "60000",
         "Diesel",
         "Second Owner",
         "425000"
        ],
        [
         "40",
         "Maruti",
         "76000",
         "Petrol",
         "First Owner",
         "150000"
        ],
        [
         "41",
         "Jeep",
         "5000",
         "Petrol",
         "First Owner",
         "2100000"
        ],
        [
         "42",
         "Honda",
         "28900",
         "Petrol",
         "First Owner",
         "925000"
        ],
        [
         "43",
         "Honda",
         "86300",
         "Petrol",
         "First Owner",
         "425000"
        ],
        [
         "44",
         "Maruti",
         "23300",
         "Petrol",
         "First Owner",
         "675000"
        ],
        [
         "45",
         "Maruti",
         "32600",
         "Diesel",
         "First Owner",
         "819999"
        ],
        [
         "46",
         "Maruti",
         "10300",
         "Petrol",
         "First Owner",
         "390000"
        ],
        [
         "47",
         "Toyota",
         "77000",
         "Diesel",
         "First Owner",
         "1500000"
        ],
        [
         "48",
         "Toyota",
         "99000",
         "Diesel",
         "First Owner",
         "700000"
        ],
        [
         "49",
         "Mercedes-Benz",
         "27800",
         "Diesel",
         "Second Owner",
         "1450000"
        ]
       ],
       "shape": {
        "columns": 5,
        "rows": 8128
       }
      },
      "text/html": [
       "<div>\n",
       "<style scoped>\n",
       "    .dataframe tbody tr th:only-of-type {\n",
       "        vertical-align: middle;\n",
       "    }\n",
       "\n",
       "    .dataframe tbody tr th {\n",
       "        vertical-align: top;\n",
       "    }\n",
       "\n",
       "    .dataframe thead th {\n",
       "        text-align: right;\n",
       "    }\n",
       "</style>\n",
       "<table border=\"1\" class=\"dataframe\">\n",
       "  <thead>\n",
       "    <tr style=\"text-align: right;\">\n",
       "      <th></th>\n",
       "      <th>brand</th>\n",
       "      <th>km_driven</th>\n",
       "      <th>fuel</th>\n",
       "      <th>owner</th>\n",
       "      <th>selling_price</th>\n",
       "    </tr>\n",
       "  </thead>\n",
       "  <tbody>\n",
       "    <tr>\n",
       "      <th>0</th>\n",
       "      <td>Maruti</td>\n",
       "      <td>145500</td>\n",
       "      <td>Diesel</td>\n",
       "      <td>First Owner</td>\n",
       "      <td>450000</td>\n",
       "    </tr>\n",
       "    <tr>\n",
       "      <th>1</th>\n",
       "      <td>Skoda</td>\n",
       "      <td>120000</td>\n",
       "      <td>Diesel</td>\n",
       "      <td>Second Owner</td>\n",
       "      <td>370000</td>\n",
       "    </tr>\n",
       "    <tr>\n",
       "      <th>2</th>\n",
       "      <td>Honda</td>\n",
       "      <td>140000</td>\n",
       "      <td>Petrol</td>\n",
       "      <td>Third Owner</td>\n",
       "      <td>158000</td>\n",
       "    </tr>\n",
       "    <tr>\n",
       "      <th>3</th>\n",
       "      <td>Hyundai</td>\n",
       "      <td>127000</td>\n",
       "      <td>Diesel</td>\n",
       "      <td>First Owner</td>\n",
       "      <td>225000</td>\n",
       "    </tr>\n",
       "    <tr>\n",
       "      <th>4</th>\n",
       "      <td>Maruti</td>\n",
       "      <td>120000</td>\n",
       "      <td>Petrol</td>\n",
       "      <td>First Owner</td>\n",
       "      <td>130000</td>\n",
       "    </tr>\n",
       "    <tr>\n",
       "      <th>...</th>\n",
       "      <td>...</td>\n",
       "      <td>...</td>\n",
       "      <td>...</td>\n",
       "      <td>...</td>\n",
       "      <td>...</td>\n",
       "    </tr>\n",
       "    <tr>\n",
       "      <th>8123</th>\n",
       "      <td>Hyundai</td>\n",
       "      <td>110000</td>\n",
       "      <td>Petrol</td>\n",
       "      <td>First Owner</td>\n",
       "      <td>320000</td>\n",
       "    </tr>\n",
       "    <tr>\n",
       "      <th>8124</th>\n",
       "      <td>Hyundai</td>\n",
       "      <td>119000</td>\n",
       "      <td>Diesel</td>\n",
       "      <td>Fourth &amp; Above Owner</td>\n",
       "      <td>135000</td>\n",
       "    </tr>\n",
       "    <tr>\n",
       "      <th>8125</th>\n",
       "      <td>Maruti</td>\n",
       "      <td>120000</td>\n",
       "      <td>Diesel</td>\n",
       "      <td>First Owner</td>\n",
       "      <td>382000</td>\n",
       "    </tr>\n",
       "    <tr>\n",
       "      <th>8126</th>\n",
       "      <td>Tata</td>\n",
       "      <td>25000</td>\n",
       "      <td>Diesel</td>\n",
       "      <td>First Owner</td>\n",
       "      <td>290000</td>\n",
       "    </tr>\n",
       "    <tr>\n",
       "      <th>8127</th>\n",
       "      <td>Tata</td>\n",
       "      <td>25000</td>\n",
       "      <td>Diesel</td>\n",
       "      <td>First Owner</td>\n",
       "      <td>290000</td>\n",
       "    </tr>\n",
       "  </tbody>\n",
       "</table>\n",
       "<p>8128 rows × 5 columns</p>\n",
       "</div>"
      ],
      "text/plain": [
       "        brand  km_driven    fuel                 owner  selling_price\n",
       "0      Maruti     145500  Diesel           First Owner         450000\n",
       "1       Skoda     120000  Diesel          Second Owner         370000\n",
       "2       Honda     140000  Petrol           Third Owner         158000\n",
       "3     Hyundai     127000  Diesel           First Owner         225000\n",
       "4      Maruti     120000  Petrol           First Owner         130000\n",
       "...       ...        ...     ...                   ...            ...\n",
       "8123  Hyundai     110000  Petrol           First Owner         320000\n",
       "8124  Hyundai     119000  Diesel  Fourth & Above Owner         135000\n",
       "8125   Maruti     120000  Diesel           First Owner         382000\n",
       "8126     Tata      25000  Diesel           First Owner         290000\n",
       "8127     Tata      25000  Diesel           First Owner         290000\n",
       "\n",
       "[8128 rows x 5 columns]"
      ]
     },
     "execution_count": 136,
     "metadata": {},
     "output_type": "execute_result"
    }
   ],
   "source": [
    "df"
   ]
  },
  {
   "cell_type": "markdown",
   "id": "32f07d12",
   "metadata": {},
   "source": [
    "## Using Pandas"
   ]
  },
  {
   "cell_type": "markdown",
   "id": "4e54b798",
   "metadata": {},
   "source": [
    "#### Not good as it doesnt keep the track of column locations"
   ]
  },
  {
   "cell_type": "code",
   "execution_count": 137,
   "id": "8ac27dc7",
   "metadata": {},
   "outputs": [
    {
     "data": {
      "application/vnd.microsoft.datawrangler.viewer.v0+json": {
       "columns": [
        {
         "name": "index",
         "rawType": "int64",
         "type": "integer"
        },
        {
         "name": "brand",
         "rawType": "object",
         "type": "string"
        },
        {
         "name": "km_driven",
         "rawType": "int64",
         "type": "integer"
        },
        {
         "name": "selling_price",
         "rawType": "int64",
         "type": "integer"
        },
        {
         "name": "fuel_Diesel",
         "rawType": "bool",
         "type": "boolean"
        },
        {
         "name": "fuel_LPG",
         "rawType": "bool",
         "type": "boolean"
        },
        {
         "name": "fuel_Petrol",
         "rawType": "bool",
         "type": "boolean"
        },
        {
         "name": "owner_Fourth & Above Owner",
         "rawType": "bool",
         "type": "boolean"
        },
        {
         "name": "owner_Second Owner",
         "rawType": "bool",
         "type": "boolean"
        },
        {
         "name": "owner_Test Drive Car",
         "rawType": "bool",
         "type": "boolean"
        },
        {
         "name": "owner_Third Owner",
         "rawType": "bool",
         "type": "boolean"
        }
       ],
       "ref": "f6d9ad48-ca59-415d-9f47-842a676998e7",
       "rows": [
        [
         "0",
         "Maruti",
         "145500",
         "450000",
         "True",
         "False",
         "False",
         "False",
         "False",
         "False",
         "False"
        ],
        [
         "1",
         "Skoda",
         "120000",
         "370000",
         "True",
         "False",
         "False",
         "False",
         "True",
         "False",
         "False"
        ],
        [
         "2",
         "Honda",
         "140000",
         "158000",
         "False",
         "False",
         "True",
         "False",
         "False",
         "False",
         "True"
        ],
        [
         "3",
         "Hyundai",
         "127000",
         "225000",
         "True",
         "False",
         "False",
         "False",
         "False",
         "False",
         "False"
        ],
        [
         "4",
         "Maruti",
         "120000",
         "130000",
         "False",
         "False",
         "True",
         "False",
         "False",
         "False",
         "False"
        ],
        [
         "5",
         "Hyundai",
         "45000",
         "440000",
         "False",
         "False",
         "True",
         "False",
         "False",
         "False",
         "False"
        ],
        [
         "6",
         "Maruti",
         "175000",
         "96000",
         "False",
         "True",
         "False",
         "False",
         "False",
         "False",
         "False"
        ],
        [
         "7",
         "Maruti",
         "5000",
         "45000",
         "False",
         "False",
         "True",
         "False",
         "True",
         "False",
         "False"
        ],
        [
         "8",
         "Toyota",
         "90000",
         "350000",
         "True",
         "False",
         "False",
         "False",
         "False",
         "False",
         "False"
        ],
        [
         "9",
         "Ford",
         "169000",
         "200000",
         "True",
         "False",
         "False",
         "False",
         "False",
         "False",
         "False"
        ],
        [
         "10",
         "Renault",
         "68000",
         "500000",
         "True",
         "False",
         "False",
         "False",
         "True",
         "False",
         "False"
        ],
        [
         "11",
         "Maruti",
         "100000",
         "92000",
         "False",
         "False",
         "True",
         "False",
         "True",
         "False",
         "False"
        ],
        [
         "12",
         "Maruti",
         "140000",
         "280000",
         "True",
         "False",
         "False",
         "False",
         "True",
         "False",
         "False"
        ],
        [
         "13",
         "Maruti",
         "80000",
         "200000",
         "False",
         "False",
         "True",
         "False",
         "True",
         "False",
         "False"
        ],
        [
         "14",
         "Maruti",
         "90000",
         "180000",
         "False",
         "False",
         "True",
         "False",
         "True",
         "False",
         "False"
        ],
        [
         "15",
         "Mahindra",
         "40000",
         "400000",
         "False",
         "False",
         "True",
         "False",
         "False",
         "False",
         "False"
        ],
        [
         "16",
         "Maruti",
         "70000",
         "778000",
         "True",
         "False",
         "False",
         "False",
         "True",
         "False",
         "False"
        ],
        [
         "17",
         "Hyundai",
         "53000",
         "500000",
         "True",
         "False",
         "False",
         "False",
         "True",
         "False",
         "False"
        ],
        [
         "18",
         "Maruti",
         "80000",
         "150000",
         "False",
         "False",
         "True",
         "False",
         "True",
         "False",
         "False"
        ],
        [
         "19",
         "Hyundai",
         "100000",
         "680000",
         "True",
         "False",
         "False",
         "False",
         "False",
         "False",
         "False"
        ],
        [
         "20",
         "Mahindra",
         "100000",
         "174000",
         "True",
         "False",
         "False",
         "False",
         "True",
         "False",
         "False"
        ],
        [
         "21",
         "Honda",
         "50000",
         "950000",
         "True",
         "False",
         "False",
         "False",
         "False",
         "False",
         "False"
        ],
        [
         "22",
         "Maruti",
         "40000",
         "525000",
         "True",
         "False",
         "False",
         "False",
         "False",
         "False",
         "False"
        ],
        [
         "23",
         "Maruti",
         "72000",
         "600000",
         "True",
         "False",
         "False",
         "False",
         "False",
         "False",
         "False"
        ],
        [
         "24",
         "Tata",
         "35000",
         "500000",
         "False",
         "False",
         "True",
         "False",
         "False",
         "False",
         "False"
        ],
        [
         "25",
         "Maruti",
         "45000",
         "575000",
         "False",
         "False",
         "True",
         "False",
         "False",
         "False",
         "False"
        ],
        [
         "26",
         "Maruti",
         "28000",
         "275000",
         "False",
         "False",
         "True",
         "False",
         "False",
         "False",
         "False"
        ],
        [
         "27",
         "Chevrolet",
         "70000",
         "300000",
         "True",
         "False",
         "False",
         "False",
         "False",
         "False",
         "False"
        ],
        [
         "28",
         "Maruti",
         "120000",
         "220000",
         "False",
         "False",
         "True",
         "False",
         "False",
         "False",
         "False"
        ],
        [
         "29",
         "Maruti",
         "25000",
         "254999",
         "False",
         "False",
         "True",
         "False",
         "False",
         "False",
         "False"
        ],
        [
         "30",
         "Maruti",
         "70000",
         "670000",
         "True",
         "False",
         "False",
         "False",
         "False",
         "False",
         "False"
        ],
        [
         "31",
         "Fiat",
         "50000",
         "70000",
         "False",
         "False",
         "True",
         "False",
         "True",
         "False",
         "False"
        ],
        [
         "32",
         "Maruti",
         "35000",
         "150000",
         "False",
         "False",
         "True",
         "False",
         "True",
         "False",
         "False"
        ],
        [
         "33",
         "Hyundai",
         "2388",
         "730000",
         "False",
         "False",
         "True",
         "False",
         "False",
         "False",
         "False"
        ],
        [
         "34",
         "Maruti",
         "16200",
         "650000",
         "True",
         "False",
         "False",
         "False",
         "False",
         "False",
         "False"
        ],
        [
         "35",
         "Maruti",
         "10000",
         "330000",
         "False",
         "False",
         "False",
         "False",
         "True",
         "False",
         "False"
        ],
        [
         "36",
         "Maruti",
         "15000",
         "366000",
         "False",
         "False",
         "True",
         "False",
         "False",
         "False",
         "False"
        ],
        [
         "37",
         "Hyundai",
         "5000",
         "1149000",
         "False",
         "False",
         "True",
         "False",
         "False",
         "False",
         "False"
        ],
        [
         "38",
         "Datsun",
         "42000",
         "150000",
         "False",
         "False",
         "True",
         "False",
         "False",
         "False",
         "False"
        ],
        [
         "39",
         "Tata",
         "60000",
         "425000",
         "True",
         "False",
         "False",
         "False",
         "True",
         "False",
         "False"
        ],
        [
         "40",
         "Maruti",
         "76000",
         "150000",
         "False",
         "False",
         "True",
         "False",
         "False",
         "False",
         "False"
        ],
        [
         "41",
         "Jeep",
         "5000",
         "2100000",
         "False",
         "False",
         "True",
         "False",
         "False",
         "False",
         "False"
        ],
        [
         "42",
         "Honda",
         "28900",
         "925000",
         "False",
         "False",
         "True",
         "False",
         "False",
         "False",
         "False"
        ],
        [
         "43",
         "Honda",
         "86300",
         "425000",
         "False",
         "False",
         "True",
         "False",
         "False",
         "False",
         "False"
        ],
        [
         "44",
         "Maruti",
         "23300",
         "675000",
         "False",
         "False",
         "True",
         "False",
         "False",
         "False",
         "False"
        ],
        [
         "45",
         "Maruti",
         "32600",
         "819999",
         "True",
         "False",
         "False",
         "False",
         "False",
         "False",
         "False"
        ],
        [
         "46",
         "Maruti",
         "10300",
         "390000",
         "False",
         "False",
         "True",
         "False",
         "False",
         "False",
         "False"
        ],
        [
         "47",
         "Toyota",
         "77000",
         "1500000",
         "True",
         "False",
         "False",
         "False",
         "False",
         "False",
         "False"
        ],
        [
         "48",
         "Toyota",
         "99000",
         "700000",
         "True",
         "False",
         "False",
         "False",
         "False",
         "False",
         "False"
        ],
        [
         "49",
         "Mercedes-Benz",
         "27800",
         "1450000",
         "True",
         "False",
         "False",
         "False",
         "True",
         "False",
         "False"
        ]
       ],
       "shape": {
        "columns": 10,
        "rows": 8128
       }
      },
      "text/html": [
       "<div>\n",
       "<style scoped>\n",
       "    .dataframe tbody tr th:only-of-type {\n",
       "        vertical-align: middle;\n",
       "    }\n",
       "\n",
       "    .dataframe tbody tr th {\n",
       "        vertical-align: top;\n",
       "    }\n",
       "\n",
       "    .dataframe thead th {\n",
       "        text-align: right;\n",
       "    }\n",
       "</style>\n",
       "<table border=\"1\" class=\"dataframe\">\n",
       "  <thead>\n",
       "    <tr style=\"text-align: right;\">\n",
       "      <th></th>\n",
       "      <th>brand</th>\n",
       "      <th>km_driven</th>\n",
       "      <th>selling_price</th>\n",
       "      <th>fuel_Diesel</th>\n",
       "      <th>fuel_LPG</th>\n",
       "      <th>fuel_Petrol</th>\n",
       "      <th>owner_Fourth &amp; Above Owner</th>\n",
       "      <th>owner_Second Owner</th>\n",
       "      <th>owner_Test Drive Car</th>\n",
       "      <th>owner_Third Owner</th>\n",
       "    </tr>\n",
       "  </thead>\n",
       "  <tbody>\n",
       "    <tr>\n",
       "      <th>0</th>\n",
       "      <td>Maruti</td>\n",
       "      <td>145500</td>\n",
       "      <td>450000</td>\n",
       "      <td>True</td>\n",
       "      <td>False</td>\n",
       "      <td>False</td>\n",
       "      <td>False</td>\n",
       "      <td>False</td>\n",
       "      <td>False</td>\n",
       "      <td>False</td>\n",
       "    </tr>\n",
       "    <tr>\n",
       "      <th>1</th>\n",
       "      <td>Skoda</td>\n",
       "      <td>120000</td>\n",
       "      <td>370000</td>\n",
       "      <td>True</td>\n",
       "      <td>False</td>\n",
       "      <td>False</td>\n",
       "      <td>False</td>\n",
       "      <td>True</td>\n",
       "      <td>False</td>\n",
       "      <td>False</td>\n",
       "    </tr>\n",
       "    <tr>\n",
       "      <th>2</th>\n",
       "      <td>Honda</td>\n",
       "      <td>140000</td>\n",
       "      <td>158000</td>\n",
       "      <td>False</td>\n",
       "      <td>False</td>\n",
       "      <td>True</td>\n",
       "      <td>False</td>\n",
       "      <td>False</td>\n",
       "      <td>False</td>\n",
       "      <td>True</td>\n",
       "    </tr>\n",
       "    <tr>\n",
       "      <th>3</th>\n",
       "      <td>Hyundai</td>\n",
       "      <td>127000</td>\n",
       "      <td>225000</td>\n",
       "      <td>True</td>\n",
       "      <td>False</td>\n",
       "      <td>False</td>\n",
       "      <td>False</td>\n",
       "      <td>False</td>\n",
       "      <td>False</td>\n",
       "      <td>False</td>\n",
       "    </tr>\n",
       "    <tr>\n",
       "      <th>4</th>\n",
       "      <td>Maruti</td>\n",
       "      <td>120000</td>\n",
       "      <td>130000</td>\n",
       "      <td>False</td>\n",
       "      <td>False</td>\n",
       "      <td>True</td>\n",
       "      <td>False</td>\n",
       "      <td>False</td>\n",
       "      <td>False</td>\n",
       "      <td>False</td>\n",
       "    </tr>\n",
       "    <tr>\n",
       "      <th>...</th>\n",
       "      <td>...</td>\n",
       "      <td>...</td>\n",
       "      <td>...</td>\n",
       "      <td>...</td>\n",
       "      <td>...</td>\n",
       "      <td>...</td>\n",
       "      <td>...</td>\n",
       "      <td>...</td>\n",
       "      <td>...</td>\n",
       "      <td>...</td>\n",
       "    </tr>\n",
       "    <tr>\n",
       "      <th>8123</th>\n",
       "      <td>Hyundai</td>\n",
       "      <td>110000</td>\n",
       "      <td>320000</td>\n",
       "      <td>False</td>\n",
       "      <td>False</td>\n",
       "      <td>True</td>\n",
       "      <td>False</td>\n",
       "      <td>False</td>\n",
       "      <td>False</td>\n",
       "      <td>False</td>\n",
       "    </tr>\n",
       "    <tr>\n",
       "      <th>8124</th>\n",
       "      <td>Hyundai</td>\n",
       "      <td>119000</td>\n",
       "      <td>135000</td>\n",
       "      <td>True</td>\n",
       "      <td>False</td>\n",
       "      <td>False</td>\n",
       "      <td>True</td>\n",
       "      <td>False</td>\n",
       "      <td>False</td>\n",
       "      <td>False</td>\n",
       "    </tr>\n",
       "    <tr>\n",
       "      <th>8125</th>\n",
       "      <td>Maruti</td>\n",
       "      <td>120000</td>\n",
       "      <td>382000</td>\n",
       "      <td>True</td>\n",
       "      <td>False</td>\n",
       "      <td>False</td>\n",
       "      <td>False</td>\n",
       "      <td>False</td>\n",
       "      <td>False</td>\n",
       "      <td>False</td>\n",
       "    </tr>\n",
       "    <tr>\n",
       "      <th>8126</th>\n",
       "      <td>Tata</td>\n",
       "      <td>25000</td>\n",
       "      <td>290000</td>\n",
       "      <td>True</td>\n",
       "      <td>False</td>\n",
       "      <td>False</td>\n",
       "      <td>False</td>\n",
       "      <td>False</td>\n",
       "      <td>False</td>\n",
       "      <td>False</td>\n",
       "    </tr>\n",
       "    <tr>\n",
       "      <th>8127</th>\n",
       "      <td>Tata</td>\n",
       "      <td>25000</td>\n",
       "      <td>290000</td>\n",
       "      <td>True</td>\n",
       "      <td>False</td>\n",
       "      <td>False</td>\n",
       "      <td>False</td>\n",
       "      <td>False</td>\n",
       "      <td>False</td>\n",
       "      <td>False</td>\n",
       "    </tr>\n",
       "  </tbody>\n",
       "</table>\n",
       "<p>8128 rows × 10 columns</p>\n",
       "</div>"
      ],
      "text/plain": [
       "        brand  km_driven  selling_price  fuel_Diesel  fuel_LPG  fuel_Petrol  \\\n",
       "0      Maruti     145500         450000         True     False        False   \n",
       "1       Skoda     120000         370000         True     False        False   \n",
       "2       Honda     140000         158000        False     False         True   \n",
       "3     Hyundai     127000         225000         True     False        False   \n",
       "4      Maruti     120000         130000        False     False         True   \n",
       "...       ...        ...            ...          ...       ...          ...   \n",
       "8123  Hyundai     110000         320000        False     False         True   \n",
       "8124  Hyundai     119000         135000         True     False        False   \n",
       "8125   Maruti     120000         382000         True     False        False   \n",
       "8126     Tata      25000         290000         True     False        False   \n",
       "8127     Tata      25000         290000         True     False        False   \n",
       "\n",
       "      owner_Fourth & Above Owner  owner_Second Owner  owner_Test Drive Car  \\\n",
       "0                          False               False                 False   \n",
       "1                          False                True                 False   \n",
       "2                          False               False                 False   \n",
       "3                          False               False                 False   \n",
       "4                          False               False                 False   \n",
       "...                          ...                 ...                   ...   \n",
       "8123                       False               False                 False   \n",
       "8124                        True               False                 False   \n",
       "8125                       False               False                 False   \n",
       "8126                       False               False                 False   \n",
       "8127                       False               False                 False   \n",
       "\n",
       "      owner_Third Owner  \n",
       "0                 False  \n",
       "1                 False  \n",
       "2                  True  \n",
       "3                 False  \n",
       "4                 False  \n",
       "...                 ...  \n",
       "8123              False  \n",
       "8124              False  \n",
       "8125              False  \n",
       "8126              False  \n",
       "8127              False  \n",
       "\n",
       "[8128 rows x 10 columns]"
      ]
     },
     "execution_count": 137,
     "metadata": {},
     "output_type": "execute_result"
    }
   ],
   "source": [
    "pd.get_dummies(df,columns=['fuel','owner'],drop_first=True)"
   ]
  },
  {
   "cell_type": "code",
   "execution_count": 138,
   "id": "53a62371",
   "metadata": {},
   "outputs": [],
   "source": [
    "X=df.iloc[:,0:-1]"
   ]
  },
  {
   "cell_type": "code",
   "execution_count": 139,
   "id": "004fd10e",
   "metadata": {},
   "outputs": [],
   "source": [
    "y=df.iloc[:,-1]"
   ]
  },
  {
   "cell_type": "code",
   "execution_count": 140,
   "id": "378635d8",
   "metadata": {},
   "outputs": [],
   "source": [
    "from sklearn.model_selection import train_test_split\n",
    "\n",
    "X_train,X_test,y_train,y_test=train_test_split(X,y,test_size=0.2,random_state=42)"
   ]
  },
  {
   "cell_type": "code",
   "execution_count": 141,
   "id": "78c07b9d",
   "metadata": {},
   "outputs": [],
   "source": [
    "from sklearn.preprocessing import OneHotEncoder"
   ]
  },
  {
   "cell_type": "code",
   "execution_count": 142,
   "id": "44a9dece",
   "metadata": {},
   "outputs": [],
   "source": [
    "ohe=OneHotEncoder(drop='first',sparse_output=False,dtype=np.int32)"
   ]
  },
  {
   "cell_type": "code",
   "execution_count": 143,
   "id": "70bfc3c4",
   "metadata": {},
   "outputs": [],
   "source": [
    "X_train_new=ohe.fit_transform(X_train[['fuel','owner']])"
   ]
  },
  {
   "cell_type": "code",
   "execution_count": 144,
   "id": "6e5d3df1",
   "metadata": {},
   "outputs": [],
   "source": [
    "X_test_new=ohe.transform(X_train[['fuel','owner']])"
   ]
  },
  {
   "cell_type": "code",
   "execution_count": null,
   "id": "57fb3446",
   "metadata": {},
   "outputs": [],
   "source": [
    "np.hstack((X_train[['brand','km_driven']].values,X_train_new)).shape"
   ]
  },
  {
   "cell_type": "markdown",
   "id": "334ad635",
   "metadata": {},
   "source": [
    "### Encoding multiple categories"
   ]
  },
  {
   "cell_type": "code",
   "execution_count": 146,
   "id": "3c18dc92",
   "metadata": {},
   "outputs": [],
   "source": [
    "counts = df['brand'].value_counts()"
   ]
  },
  {
   "cell_type": "code",
   "execution_count": 147,
   "id": "a1184915",
   "metadata": {},
   "outputs": [],
   "source": [
    "\n",
    "df['brand'].nunique()\n",
    "threshold = 100"
   ]
  },
  {
   "cell_type": "code",
   "execution_count": 148,
   "id": "8eaae09c",
   "metadata": {},
   "outputs": [],
   "source": [
    "repl = counts[counts <= threshold].index"
   ]
  },
  {
   "cell_type": "code",
   "execution_count": 149,
   "id": "6cb790f2",
   "metadata": {},
   "outputs": [
    {
     "data": {
      "application/vnd.microsoft.datawrangler.viewer.v0+json": {
       "columns": [
        {
         "name": "index",
         "rawType": "int64",
         "type": "integer"
        },
        {
         "name": "BMW",
         "rawType": "bool",
         "type": "boolean"
        },
        {
         "name": "Chevrolet",
         "rawType": "bool",
         "type": "boolean"
        },
        {
         "name": "Ford",
         "rawType": "bool",
         "type": "boolean"
        },
        {
         "name": "Honda",
         "rawType": "bool",
         "type": "boolean"
        },
        {
         "name": "Hyundai",
         "rawType": "bool",
         "type": "boolean"
        },
        {
         "name": "Mahindra",
         "rawType": "bool",
         "type": "boolean"
        },
        {
         "name": "Maruti",
         "rawType": "bool",
         "type": "boolean"
        },
        {
         "name": "Renault",
         "rawType": "bool",
         "type": "boolean"
        },
        {
         "name": "Skoda",
         "rawType": "bool",
         "type": "boolean"
        },
        {
         "name": "Tata",
         "rawType": "bool",
         "type": "boolean"
        },
        {
         "name": "Toyota",
         "rawType": "bool",
         "type": "boolean"
        },
        {
         "name": "Volkswagen",
         "rawType": "bool",
         "type": "boolean"
        },
        {
         "name": "uncommon",
         "rawType": "bool",
         "type": "boolean"
        }
       ],
       "ref": "3d3c5b59-3593-4357-a15c-e282d4896310",
       "rows": [
        [
         "4639",
         "False",
         "False",
         "False",
         "False",
         "False",
         "False",
         "True",
         "False",
         "False",
         "False",
         "False",
         "False",
         "False"
        ],
        [
         "4359",
         "False",
         "False",
         "False",
         "False",
         "True",
         "False",
         "False",
         "False",
         "False",
         "False",
         "False",
         "False",
         "False"
        ],
        [
         "1338",
         "False",
         "False",
         "True",
         "False",
         "False",
         "False",
         "False",
         "False",
         "False",
         "False",
         "False",
         "False",
         "False"
        ],
        [
         "5684",
         "False",
         "False",
         "False",
         "False",
         "True",
         "False",
         "False",
         "False",
         "False",
         "False",
         "False",
         "False",
         "False"
        ],
        [
         "4633",
         "False",
         "False",
         "False",
         "False",
         "False",
         "False",
         "True",
         "False",
         "False",
         "False",
         "False",
         "False",
         "False"
        ]
       ],
       "shape": {
        "columns": 13,
        "rows": 5
       }
      },
      "text/html": [
       "<div>\n",
       "<style scoped>\n",
       "    .dataframe tbody tr th:only-of-type {\n",
       "        vertical-align: middle;\n",
       "    }\n",
       "\n",
       "    .dataframe tbody tr th {\n",
       "        vertical-align: top;\n",
       "    }\n",
       "\n",
       "    .dataframe thead th {\n",
       "        text-align: right;\n",
       "    }\n",
       "</style>\n",
       "<table border=\"1\" class=\"dataframe\">\n",
       "  <thead>\n",
       "    <tr style=\"text-align: right;\">\n",
       "      <th></th>\n",
       "      <th>BMW</th>\n",
       "      <th>Chevrolet</th>\n",
       "      <th>Ford</th>\n",
       "      <th>Honda</th>\n",
       "      <th>Hyundai</th>\n",
       "      <th>Mahindra</th>\n",
       "      <th>Maruti</th>\n",
       "      <th>Renault</th>\n",
       "      <th>Skoda</th>\n",
       "      <th>Tata</th>\n",
       "      <th>Toyota</th>\n",
       "      <th>Volkswagen</th>\n",
       "      <th>uncommon</th>\n",
       "    </tr>\n",
       "  </thead>\n",
       "  <tbody>\n",
       "    <tr>\n",
       "      <th>4639</th>\n",
       "      <td>False</td>\n",
       "      <td>False</td>\n",
       "      <td>False</td>\n",
       "      <td>False</td>\n",
       "      <td>False</td>\n",
       "      <td>False</td>\n",
       "      <td>True</td>\n",
       "      <td>False</td>\n",
       "      <td>False</td>\n",
       "      <td>False</td>\n",
       "      <td>False</td>\n",
       "      <td>False</td>\n",
       "      <td>False</td>\n",
       "    </tr>\n",
       "    <tr>\n",
       "      <th>4359</th>\n",
       "      <td>False</td>\n",
       "      <td>False</td>\n",
       "      <td>False</td>\n",
       "      <td>False</td>\n",
       "      <td>True</td>\n",
       "      <td>False</td>\n",
       "      <td>False</td>\n",
       "      <td>False</td>\n",
       "      <td>False</td>\n",
       "      <td>False</td>\n",
       "      <td>False</td>\n",
       "      <td>False</td>\n",
       "      <td>False</td>\n",
       "    </tr>\n",
       "    <tr>\n",
       "      <th>1338</th>\n",
       "      <td>False</td>\n",
       "      <td>False</td>\n",
       "      <td>True</td>\n",
       "      <td>False</td>\n",
       "      <td>False</td>\n",
       "      <td>False</td>\n",
       "      <td>False</td>\n",
       "      <td>False</td>\n",
       "      <td>False</td>\n",
       "      <td>False</td>\n",
       "      <td>False</td>\n",
       "      <td>False</td>\n",
       "      <td>False</td>\n",
       "    </tr>\n",
       "    <tr>\n",
       "      <th>5684</th>\n",
       "      <td>False</td>\n",
       "      <td>False</td>\n",
       "      <td>False</td>\n",
       "      <td>False</td>\n",
       "      <td>True</td>\n",
       "      <td>False</td>\n",
       "      <td>False</td>\n",
       "      <td>False</td>\n",
       "      <td>False</td>\n",
       "      <td>False</td>\n",
       "      <td>False</td>\n",
       "      <td>False</td>\n",
       "      <td>False</td>\n",
       "    </tr>\n",
       "    <tr>\n",
       "      <th>4633</th>\n",
       "      <td>False</td>\n",
       "      <td>False</td>\n",
       "      <td>False</td>\n",
       "      <td>False</td>\n",
       "      <td>False</td>\n",
       "      <td>False</td>\n",
       "      <td>True</td>\n",
       "      <td>False</td>\n",
       "      <td>False</td>\n",
       "      <td>False</td>\n",
       "      <td>False</td>\n",
       "      <td>False</td>\n",
       "      <td>False</td>\n",
       "    </tr>\n",
       "  </tbody>\n",
       "</table>\n",
       "</div>"
      ],
      "text/plain": [
       "        BMW  Chevrolet   Ford  Honda  Hyundai  Mahindra  Maruti  Renault  \\\n",
       "4639  False      False  False  False    False     False    True    False   \n",
       "4359  False      False  False  False     True     False   False    False   \n",
       "1338  False      False   True  False    False     False   False    False   \n",
       "5684  False      False  False  False     True     False   False    False   \n",
       "4633  False      False  False  False    False     False    True    False   \n",
       "\n",
       "      Skoda   Tata  Toyota  Volkswagen  uncommon  \n",
       "4639  False  False   False       False     False  \n",
       "4359  False  False   False       False     False  \n",
       "1338  False  False   False       False     False  \n",
       "5684  False  False   False       False     False  \n",
       "4633  False  False   False       False     False  "
      ]
     },
     "execution_count": 149,
     "metadata": {},
     "output_type": "execute_result"
    }
   ],
   "source": [
    "\n",
    "pd.get_dummies(df['brand'].replace(repl, 'uncommon')).sample(5)"
   ]
  }
 ],
 "metadata": {
  "kernelspec": {
   "display_name": "Python 3",
   "language": "python",
   "name": "python3"
  },
  "language_info": {
   "codemirror_mode": {
    "name": "ipython",
    "version": 3
   },
   "file_extension": ".py",
   "mimetype": "text/x-python",
   "name": "python",
   "nbconvert_exporter": "python",
   "pygments_lexer": "ipython3",
   "version": "3.11.9"
  }
 },
 "nbformat": 4,
 "nbformat_minor": 5
}
