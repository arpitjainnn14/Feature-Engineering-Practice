{
 "cells": [
  {
   "cell_type": "code",
   "execution_count": 65,
   "id": "aea2e2e4",
   "metadata": {},
   "outputs": [],
   "source": [
    "import pandas as pd"
   ]
  },
  {
   "cell_type": "code",
   "execution_count": 66,
   "id": "10ccf449",
   "metadata": {},
   "outputs": [],
   "source": [
    "df=pd.read_csv('datasets\\covid_toy.csv')"
   ]
  },
  {
   "cell_type": "code",
   "execution_count": 67,
   "id": "3d2a6070",
   "metadata": {},
   "outputs": [
    {
     "data": {
      "application/vnd.microsoft.datawrangler.viewer.v0+json": {
       "columns": [
        {
         "name": "index",
         "rawType": "int64",
         "type": "integer"
        },
        {
         "name": "age",
         "rawType": "int64",
         "type": "integer"
        },
        {
         "name": "gender",
         "rawType": "object",
         "type": "string"
        },
        {
         "name": "fever",
         "rawType": "float64",
         "type": "float"
        },
        {
         "name": "cough",
         "rawType": "object",
         "type": "string"
        },
        {
         "name": "city",
         "rawType": "object",
         "type": "string"
        },
        {
         "name": "has_covid",
         "rawType": "object",
         "type": "string"
        }
       ],
       "ref": "b02e4f75-2029-4a75-884b-8930a437df22",
       "rows": [
        [
         "0",
         "60",
         "Male",
         "103.0",
         "Mild",
         "Kolkata",
         "No"
        ],
        [
         "1",
         "27",
         "Male",
         "100.0",
         "Mild",
         "Delhi",
         "Yes"
        ],
        [
         "2",
         "42",
         "Male",
         "101.0",
         "Mild",
         "Delhi",
         "No"
        ],
        [
         "3",
         "31",
         "Female",
         "98.0",
         "Mild",
         "Kolkata",
         "No"
        ],
        [
         "4",
         "65",
         "Female",
         "101.0",
         "Mild",
         "Mumbai",
         "No"
        ],
        [
         "5",
         "84",
         "Female",
         null,
         "Mild",
         "Bangalore",
         "Yes"
        ],
        [
         "6",
         "14",
         "Male",
         "101.0",
         "Strong",
         "Bangalore",
         "No"
        ],
        [
         "7",
         "20",
         "Female",
         null,
         "Strong",
         "Mumbai",
         "Yes"
        ],
        [
         "8",
         "19",
         "Female",
         "100.0",
         "Strong",
         "Bangalore",
         "No"
        ],
        [
         "9",
         "64",
         "Female",
         "101.0",
         "Mild",
         "Delhi",
         "No"
        ],
        [
         "10",
         "75",
         "Female",
         null,
         "Mild",
         "Delhi",
         "No"
        ],
        [
         "11",
         "65",
         "Female",
         "98.0",
         "Mild",
         "Mumbai",
         "Yes"
        ],
        [
         "12",
         "25",
         "Female",
         "99.0",
         "Strong",
         "Kolkata",
         "No"
        ],
        [
         "13",
         "64",
         "Male",
         "102.0",
         "Mild",
         "Bangalore",
         "Yes"
        ],
        [
         "14",
         "51",
         "Male",
         "104.0",
         "Mild",
         "Bangalore",
         "No"
        ],
        [
         "15",
         "70",
         "Male",
         "103.0",
         "Strong",
         "Kolkata",
         "Yes"
        ],
        [
         "16",
         "69",
         "Female",
         "103.0",
         "Mild",
         "Kolkata",
         "Yes"
        ],
        [
         "17",
         "40",
         "Female",
         "98.0",
         "Strong",
         "Delhi",
         "No"
        ],
        [
         "18",
         "64",
         "Female",
         "98.0",
         "Mild",
         "Bangalore",
         "Yes"
        ],
        [
         "19",
         "42",
         "Female",
         null,
         "Strong",
         "Bangalore",
         "Yes"
        ],
        [
         "20",
         "12",
         "Male",
         "98.0",
         "Strong",
         "Bangalore",
         "No"
        ],
        [
         "21",
         "73",
         "Male",
         "98.0",
         "Mild",
         "Bangalore",
         "Yes"
        ],
        [
         "22",
         "71",
         "Female",
         "98.0",
         "Strong",
         "Kolkata",
         "Yes"
        ],
        [
         "23",
         "80",
         "Female",
         "98.0",
         "Mild",
         "Delhi",
         "Yes"
        ],
        [
         "24",
         "13",
         "Female",
         "100.0",
         "Strong",
         "Kolkata",
         "No"
        ],
        [
         "25",
         "23",
         "Male",
         null,
         "Mild",
         "Mumbai",
         "No"
        ],
        [
         "26",
         "19",
         "Female",
         "100.0",
         "Mild",
         "Kolkata",
         "Yes"
        ],
        [
         "27",
         "33",
         "Female",
         "102.0",
         "Strong",
         "Delhi",
         "No"
        ],
        [
         "28",
         "16",
         "Male",
         "104.0",
         "Mild",
         "Kolkata",
         "No"
        ],
        [
         "29",
         "34",
         "Female",
         null,
         "Strong",
         "Mumbai",
         "Yes"
        ],
        [
         "30",
         "15",
         "Male",
         "101.0",
         "Mild",
         "Delhi",
         "Yes"
        ],
        [
         "31",
         "83",
         "Male",
         "103.0",
         "Mild",
         "Kolkata",
         "No"
        ],
        [
         "32",
         "34",
         "Female",
         "101.0",
         "Strong",
         "Delhi",
         "Yes"
        ],
        [
         "33",
         "26",
         "Female",
         "98.0",
         "Mild",
         "Kolkata",
         "No"
        ],
        [
         "34",
         "74",
         "Male",
         "102.0",
         "Mild",
         "Mumbai",
         "Yes"
        ],
        [
         "35",
         "82",
         "Female",
         "102.0",
         "Strong",
         "Bangalore",
         "No"
        ],
        [
         "36",
         "38",
         "Female",
         "101.0",
         "Mild",
         "Bangalore",
         "No"
        ],
        [
         "37",
         "55",
         "Male",
         "100.0",
         "Mild",
         "Kolkata",
         "No"
        ],
        [
         "38",
         "49",
         "Female",
         "101.0",
         "Mild",
         "Delhi",
         "Yes"
        ],
        [
         "39",
         "50",
         "Female",
         "103.0",
         "Mild",
         "Kolkata",
         "No"
        ],
        [
         "40",
         "49",
         "Female",
         "102.0",
         "Mild",
         "Delhi",
         "No"
        ],
        [
         "41",
         "82",
         "Male",
         null,
         "Mild",
         "Kolkata",
         "Yes"
        ],
        [
         "42",
         "27",
         "Male",
         "100.0",
         "Mild",
         "Delhi",
         "Yes"
        ],
        [
         "43",
         "22",
         "Female",
         "99.0",
         "Mild",
         "Bangalore",
         "Yes"
        ],
        [
         "44",
         "20",
         "Male",
         "102.0",
         "Strong",
         "Delhi",
         "No"
        ],
        [
         "45",
         "72",
         "Male",
         "99.0",
         "Mild",
         "Bangalore",
         "No"
        ],
        [
         "46",
         "19",
         "Female",
         "101.0",
         "Mild",
         "Mumbai",
         "No"
        ],
        [
         "47",
         "18",
         "Female",
         "104.0",
         "Mild",
         "Bangalore",
         "No"
        ],
        [
         "48",
         "66",
         "Male",
         "99.0",
         "Strong",
         "Bangalore",
         "No"
        ],
        [
         "49",
         "44",
         "Male",
         "104.0",
         "Mild",
         "Mumbai",
         "No"
        ]
       ],
       "shape": {
        "columns": 6,
        "rows": 100
       }
      },
      "text/html": [
       "<div>\n",
       "<style scoped>\n",
       "    .dataframe tbody tr th:only-of-type {\n",
       "        vertical-align: middle;\n",
       "    }\n",
       "\n",
       "    .dataframe tbody tr th {\n",
       "        vertical-align: top;\n",
       "    }\n",
       "\n",
       "    .dataframe thead th {\n",
       "        text-align: right;\n",
       "    }\n",
       "</style>\n",
       "<table border=\"1\" class=\"dataframe\">\n",
       "  <thead>\n",
       "    <tr style=\"text-align: right;\">\n",
       "      <th></th>\n",
       "      <th>age</th>\n",
       "      <th>gender</th>\n",
       "      <th>fever</th>\n",
       "      <th>cough</th>\n",
       "      <th>city</th>\n",
       "      <th>has_covid</th>\n",
       "    </tr>\n",
       "  </thead>\n",
       "  <tbody>\n",
       "    <tr>\n",
       "      <th>0</th>\n",
       "      <td>60</td>\n",
       "      <td>Male</td>\n",
       "      <td>103.0</td>\n",
       "      <td>Mild</td>\n",
       "      <td>Kolkata</td>\n",
       "      <td>No</td>\n",
       "    </tr>\n",
       "    <tr>\n",
       "      <th>1</th>\n",
       "      <td>27</td>\n",
       "      <td>Male</td>\n",
       "      <td>100.0</td>\n",
       "      <td>Mild</td>\n",
       "      <td>Delhi</td>\n",
       "      <td>Yes</td>\n",
       "    </tr>\n",
       "    <tr>\n",
       "      <th>2</th>\n",
       "      <td>42</td>\n",
       "      <td>Male</td>\n",
       "      <td>101.0</td>\n",
       "      <td>Mild</td>\n",
       "      <td>Delhi</td>\n",
       "      <td>No</td>\n",
       "    </tr>\n",
       "    <tr>\n",
       "      <th>3</th>\n",
       "      <td>31</td>\n",
       "      <td>Female</td>\n",
       "      <td>98.0</td>\n",
       "      <td>Mild</td>\n",
       "      <td>Kolkata</td>\n",
       "      <td>No</td>\n",
       "    </tr>\n",
       "    <tr>\n",
       "      <th>4</th>\n",
       "      <td>65</td>\n",
       "      <td>Female</td>\n",
       "      <td>101.0</td>\n",
       "      <td>Mild</td>\n",
       "      <td>Mumbai</td>\n",
       "      <td>No</td>\n",
       "    </tr>\n",
       "    <tr>\n",
       "      <th>...</th>\n",
       "      <td>...</td>\n",
       "      <td>...</td>\n",
       "      <td>...</td>\n",
       "      <td>...</td>\n",
       "      <td>...</td>\n",
       "      <td>...</td>\n",
       "    </tr>\n",
       "    <tr>\n",
       "      <th>95</th>\n",
       "      <td>12</td>\n",
       "      <td>Female</td>\n",
       "      <td>104.0</td>\n",
       "      <td>Mild</td>\n",
       "      <td>Bangalore</td>\n",
       "      <td>No</td>\n",
       "    </tr>\n",
       "    <tr>\n",
       "      <th>96</th>\n",
       "      <td>51</td>\n",
       "      <td>Female</td>\n",
       "      <td>101.0</td>\n",
       "      <td>Strong</td>\n",
       "      <td>Kolkata</td>\n",
       "      <td>Yes</td>\n",
       "    </tr>\n",
       "    <tr>\n",
       "      <th>97</th>\n",
       "      <td>20</td>\n",
       "      <td>Female</td>\n",
       "      <td>101.0</td>\n",
       "      <td>Mild</td>\n",
       "      <td>Bangalore</td>\n",
       "      <td>No</td>\n",
       "    </tr>\n",
       "    <tr>\n",
       "      <th>98</th>\n",
       "      <td>5</td>\n",
       "      <td>Female</td>\n",
       "      <td>98.0</td>\n",
       "      <td>Strong</td>\n",
       "      <td>Mumbai</td>\n",
       "      <td>No</td>\n",
       "    </tr>\n",
       "    <tr>\n",
       "      <th>99</th>\n",
       "      <td>10</td>\n",
       "      <td>Female</td>\n",
       "      <td>98.0</td>\n",
       "      <td>Strong</td>\n",
       "      <td>Kolkata</td>\n",
       "      <td>Yes</td>\n",
       "    </tr>\n",
       "  </tbody>\n",
       "</table>\n",
       "<p>100 rows × 6 columns</p>\n",
       "</div>"
      ],
      "text/plain": [
       "    age  gender  fever   cough       city has_covid\n",
       "0    60    Male  103.0    Mild    Kolkata        No\n",
       "1    27    Male  100.0    Mild      Delhi       Yes\n",
       "2    42    Male  101.0    Mild      Delhi        No\n",
       "3    31  Female   98.0    Mild    Kolkata        No\n",
       "4    65  Female  101.0    Mild     Mumbai        No\n",
       "..  ...     ...    ...     ...        ...       ...\n",
       "95   12  Female  104.0    Mild  Bangalore        No\n",
       "96   51  Female  101.0  Strong    Kolkata       Yes\n",
       "97   20  Female  101.0    Mild  Bangalore        No\n",
       "98    5  Female   98.0  Strong     Mumbai        No\n",
       "99   10  Female   98.0  Strong    Kolkata       Yes\n",
       "\n",
       "[100 rows x 6 columns]"
      ]
     },
     "execution_count": 67,
     "metadata": {},
     "output_type": "execute_result"
    }
   ],
   "source": [
    "df"
   ]
  },
  {
   "cell_type": "code",
   "execution_count": 68,
   "id": "c0508aaa",
   "metadata": {},
   "outputs": [],
   "source": [
    "X=df.iloc[:,:-1]"
   ]
  },
  {
   "cell_type": "code",
   "execution_count": 69,
   "id": "4c10a8a9",
   "metadata": {},
   "outputs": [],
   "source": [
    "y=df.iloc[:,-1]"
   ]
  },
  {
   "cell_type": "code",
   "execution_count": 70,
   "id": "293de2ae",
   "metadata": {},
   "outputs": [],
   "source": [
    "from sklearn.impute import SimpleImputer\n",
    "from sklearn.preprocessing import OneHotEncoder,OrdinalEncoder,LabelEncoder\n",
    "from sklearn.model_selection import train_test_split"
   ]
  },
  {
   "cell_type": "code",
   "execution_count": 71,
   "id": "4632d9a9",
   "metadata": {},
   "outputs": [],
   "source": [
    "X_train,X_test,y_train,y_test=train_test_split(X,y,test_size=0.2,random_state=42)"
   ]
  },
  {
   "cell_type": "code",
   "execution_count": 72,
   "id": "d99b380f",
   "metadata": {},
   "outputs": [],
   "source": [
    "from sklearn.compose import ColumnTransformer"
   ]
  },
  {
   "cell_type": "code",
   "execution_count": 73,
   "id": "56952b2f",
   "metadata": {},
   "outputs": [
    {
     "data": {
      "text/plain": [
       "Index(['age', 'gender', 'fever', 'cough', 'city', 'has_covid'], dtype='object')"
      ]
     },
     "execution_count": 73,
     "metadata": {},
     "output_type": "execute_result"
    }
   ],
   "source": [
    "df.columns"
   ]
  },
  {
   "cell_type": "code",
   "execution_count": 74,
   "id": "d02c4aac",
   "metadata": {},
   "outputs": [],
   "source": [
    "transformer=ColumnTransformer(transformers=[('tnf1',SimpleImputer(),['fever']),\n",
    "                                            ('tnf2',OrdinalEncoder(categories=[['Mild','Strong']]),['cough']),\n",
    "                                            ('tnf3',OneHotEncoder(sparse_output=False,drop='first'),['gender','city'])]\n",
    "                                            ,remainder='passthrough')"
   ]
  },
  {
   "cell_type": "code",
   "execution_count": 75,
   "id": "398224cb",
   "metadata": {},
   "outputs": [
    {
     "data": {
      "text/plain": [
       "array([[101.,   0.,   0.,   0.,   0.,   1.,  81.],\n",
       "       [100.,   0.,   0.,   0.,   1.,   0.,   5.],\n",
       "       [100.,   0.,   0.,   0.,   1.,   0.,  19.],\n",
       "       [100.,   0.,   1.,   1.,   0.,   0.,  27.],\n",
       "       [103.,   0.,   0.,   1.,   0.,   0.,  73.],\n",
       "       [103.,   1.,   1.,   0.,   1.,   0.,  70.],\n",
       "       [102.,   0.,   0.,   1.,   0.,   0.,  49.],\n",
       "       [101.,   1.,   0.,   0.,   1.,   0.,  51.],\n",
       "       [101.,   0.,   0.,   1.,   0.,   0.,  64.],\n",
       "       [101.,   0.,   0.,   0.,   1.,   0.,  83.],\n",
       "       [ 98.,   0.,   0.,   0.,   0.,   1.,  65.],\n",
       "       [104.,   0.,   0.,   0.,   0.,   0.,  18.],\n",
       "       [103.,   0.,   0.,   0.,   0.,   0.,  16.],\n",
       "       [104.,   0.,   1.,   0.,   1.,   0.,  16.],\n",
       "       [100.,   0.,   1.,   0.,   1.,   0.,  27.],\n",
       "       [101.,   0.,   0.,   0.,   0.,   0.,  84.],\n",
       "       [104.,   0.,   1.,   0.,   1.,   0.,  51.],\n",
       "       [102.,   0.,   0.,   0.,   0.,   0.,  69.],\n",
       "       [102.,   1.,   0.,   0.,   0.,   0.,  82.],\n",
       "       [103.,   0.,   0.,   0.,   1.,   0.,  69.],\n",
       "       [104.,   0.,   1.,   0.,   0.,   1.,  44.],\n",
       "       [102.,   0.,   1.,   0.,   0.,   1.,  74.],\n",
       "       [101.,   1.,   0.,   0.,   0.,   1.,  20.],\n",
       "       [104.,   0.,   0.,   0.,   0.,   0.,  12.],\n",
       "       [102.,   1.,   0.,   1.,   0.,   0.,  33.],\n",
       "       [101.,   1.,   0.,   0.,   0.,   0.,  42.],\n",
       "       [ 99.,   0.,   1.,   1.,   0.,   0.,  65.],\n",
       "       [101.,   0.,   1.,   0.,   0.,   1.,  23.],\n",
       "       [104.,   1.,   0.,   0.,   0.,   0.,  56.],\n",
       "       [102.,   0.,   1.,   0.,   0.,   0.,  64.],\n",
       "       [100.,   1.,   0.,   0.,   1.,   0.,  13.],\n",
       "       [ 98.,   0.,   0.,   0.,   1.,   0.,  31.],\n",
       "       [ 98.,   1.,   0.,   1.,   0.,   0.,  40.],\n",
       "       [101.,   0.,   0.,   1.,   0.,   0.,  49.],\n",
       "       [100.,   1.,   0.,   0.,   0.,   0.,  19.],\n",
       "       [100.,   0.,   1.,   0.,   0.,   0.,  11.],\n",
       "       [101.,   1.,   1.,   0.,   0.,   0.,  14.],\n",
       "       [104.,   0.,   1.,   0.,   0.,   1.,  42.],\n",
       "       [101.,   0.,   0.,   0.,   0.,   0.,  38.],\n",
       "       [103.,   1.,   1.,   0.,   0.,   0.,  46.],\n",
       "       [101.,   1.,   1.,   0.,   1.,   0.,  71.],\n",
       "       [ 98.,   1.,   0.,   0.,   1.,   0.,  10.],\n",
       "       [ 99.,   0.,   0.,   0.,   0.,   1.,  60.],\n",
       "       [ 99.,   0.,   0.,   0.,   0.,   0.,  22.],\n",
       "       [101.,   0.,   1.,   1.,   0.,   0.,  19.],\n",
       "       [ 99.,   0.,   1.,   0.,   0.,   0.,  65.],\n",
       "       [101.,   0.,   0.,   0.,   0.,   1.,  19.],\n",
       "       [104.,   1.,   0.,   0.,   1.,   0.,  54.],\n",
       "       [ 98.,   1.,   0.,   0.,   0.,   1.,  81.],\n",
       "       [101.,   0.,   0.,   0.,   0.,   0.,  20.],\n",
       "       [103.,   0.,   0.,   0.,   1.,   0.,  48.],\n",
       "       [101.,   0.,   1.,   0.,   1.,   0.,  82.],\n",
       "       [ 98.,   1.,   1.,   0.,   0.,   1.,  23.],\n",
       "       [ 99.,   1.,   1.,   0.,   0.,   0.,  66.],\n",
       "       [ 98.,   1.,   0.,   0.,   0.,   1.,   5.],\n",
       "       [ 99.,   1.,   0.,   0.,   0.,   0.,  49.],\n",
       "       [102.,   0.,   1.,   0.,   1.,   0.,   5.],\n",
       "       [101.,   1.,   0.,   1.,   0.,   0.,  34.],\n",
       "       [101.,   1.,   1.,   0.,   1.,   0.,  79.],\n",
       "       [104.,   0.,   0.,   0.,   1.,   0.,   6.],\n",
       "       [100.,   0.,   1.,   0.,   0.,   0.,  10.],\n",
       "       [ 98.,   1.,   0.,   0.,   0.,   1.,  69.],\n",
       "       [100.,   0.,   1.,   0.,   1.,   0.,  55.],\n",
       "       [101.,   1.,   0.,   0.,   0.,   1.,  34.],\n",
       "       [100.,   0.,   1.,   1.,   0.,   0.,  27.],\n",
       "       [100.,   1.,   0.,   0.,   0.,   0.,  47.],\n",
       "       [ 98.,   0.,   1.,   0.,   0.,   0.,  73.],\n",
       "       [101.,   0.,   1.,   1.,   0.,   0.,  42.],\n",
       "       [ 98.,   0.,   0.,   1.,   0.,   0.,  80.],\n",
       "       [101.,   1.,   1.,   0.,   0.,   0.,  47.],\n",
       "       [101.,   0.,   1.,   1.,   0.,   0.,  38.],\n",
       "       [104.,   1.,   0.,   1.,   0.,   0.,  34.],\n",
       "       [104.,   0.,   1.,   0.,   0.,   0.,  25.],\n",
       "       [ 98.,   0.,   1.,   0.,   1.,   0.,  24.],\n",
       "       [ 98.,   1.,   1.,   0.,   0.,   0.,  12.],\n",
       "       [102.,   1.,   0.,   0.,   0.,   0.,  24.],\n",
       "       [104.,   1.,   0.,   1.,   0.,   0.,  75.],\n",
       "       [104.,   0.,   1.,   0.,   0.,   0.,  51.],\n",
       "       [102.,   1.,   0.,   0.,   1.,   0.,  82.],\n",
       "       [100.,   1.,   0.,   0.,   1.,   0.,  11.]])"
      ]
     },
     "execution_count": 75,
     "metadata": {},
     "output_type": "execute_result"
    }
   ],
   "source": [
    "transformer.fit_transform(X_train)"
   ]
  },
  {
   "cell_type": "code",
   "execution_count": 76,
   "id": "566738bc",
   "metadata": {},
   "outputs": [
    {
     "data": {
      "text/plain": [
       "array([[104.,   0.,   0.,   0.,   1.,   0.,  17.],\n",
       "       [ 98.,   0.,   1.,   1.,   0.,   0.,  83.],\n",
       "       [101.,   1.,   0.,   1.,   0.,   0.,  68.],\n",
       "       [ 99.,   0.,   1.,   0.,   0.,   0.,  72.],\n",
       "       [102.,   1.,   1.,   1.,   0.,   0.,  20.],\n",
       "       [103.,   0.,   0.,   0.,   1.,   0.,  50.],\n",
       "       [ 98.,   1.,   0.,   0.,   1.,   0.,  71.],\n",
       "       [ 99.,   0.,   0.,   0.,   0.,   1.,  14.],\n",
       "       [101.,   0.,   0.,   1.,   0.,   0.,  75.],\n",
       "       [103.,   0.,   1.,   0.,   1.,   0.,  60.],\n",
       "       [ 98.,   0.,   0.,   0.,   0.,   0.,  64.],\n",
       "       [101.,   0.,   1.,   1.,   0.,   0.,  15.],\n",
       "       [ 98.,   1.,   1.,   0.,   1.,   0.,  34.],\n",
       "       [ 98.,   0.,   0.,   0.,   1.,   0.,  26.],\n",
       "       [ 99.,   1.,   0.,   1.,   0.,   0.,  59.],\n",
       "       [101.,   0.,   0.,   0.,   0.,   1.,  65.],\n",
       "       [100.,   0.,   1.,   0.,   0.,   0.,  80.],\n",
       "       [101.,   0.,   0.,   0.,   1.,   0.,   8.],\n",
       "       [ 99.,   1.,   0.,   0.,   1.,   0.,  25.],\n",
       "       [103.,   0.,   1.,   0.,   1.,   0.,  83.]])"
      ]
     },
     "execution_count": 76,
     "metadata": {},
     "output_type": "execute_result"
    }
   ],
   "source": [
    "transformer.transform(X_test)"
   ]
  }
 ],
 "metadata": {
  "kernelspec": {
   "display_name": "Python 3",
   "language": "python",
   "name": "python3"
  },
  "language_info": {
   "codemirror_mode": {
    "name": "ipython",
    "version": 3
   },
   "file_extension": ".py",
   "mimetype": "text/x-python",
   "name": "python",
   "nbconvert_exporter": "python",
   "pygments_lexer": "ipython3",
   "version": "3.11.9"
  }
 },
 "nbformat": 4,
 "nbformat_minor": 5
}
